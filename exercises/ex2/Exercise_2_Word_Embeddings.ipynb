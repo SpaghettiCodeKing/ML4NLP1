{
  "cells": [
    {
      "cell_type": "markdown",
      "metadata": {
        "colab_type": "text",
        "id": "view-in-github"
      },
      "source": [
        "<a href=\"https://colab.research.google.com/github/Andrian0s/ML4NLP1-2024-Tutorial-Notebooks/blob/main/exercises/ex2/Exercise_2_Word_Embeddings.ipynb\" target=\"_parent\"><img src=\"https://colab.research.google.com/assets/colab-badge.svg\" alt=\"Open In Colab\"/></a>"
      ]
    },
    {
      "cell_type": "code",
      "execution_count": 1,
      "metadata": {
        "id": "gALCagMSOnRz"
      },
      "outputs": [],
      "source": [
        "%matplotlib inline"
      ]
    },
    {
      "cell_type": "markdown",
      "metadata": {
        "id": "jgHDDrKlO35U"
      },
      "source": [
        "### Source: [link](https://pytorch.org/tutorials/beginner/nlp/word_embeddings_tutorial.html#exercise-computing-word-embeddings-continuous-bag-of-words)\n",
        "\n",
        "# Word Embeddings: Encoding Lexical Semantics\n",
        "\n",
        "Word embeddings are dense vectors of real numbers, one per word in your\n",
        "vocabulary. In NLP, it is almost always the case that your features are\n",
        "words! But how should you represent a word in a computer? You could\n",
        "store its ascii character representation, but that only tells you what\n",
        "the word *is*, it doesn't say much about what it *means* (you might be\n",
        "able to derive its part of speech from its affixes, or properties from\n",
        "its capitalization, but not much). Even more, in what sense could you\n",
        "combine these representations? We often want dense outputs from our\n",
        "neural networks, where the inputs are $|V|$ dimensional, where\n",
        "$V$ is our vocabulary, but often the outputs are only a few\n",
        "dimensional (if we are only predicting a handful of labels, for\n",
        "instance). How do we get from a massive dimensional space to a smaller\n",
        "dimensional space?\n",
        "\n",
        "How about instead of ascii representations, we use a one-hot encoding?\n",
        "That is, we represent the word $w$ by\n",
        "\n",
        "\\begin{align}\\overbrace{\\left[ 0, 0, \\dots, 1, \\dots, 0, 0 \\right]}^\\text{|V| elements}\\end{align}\n",
        "\n",
        "where the 1 is in a location unique to $w$. Any other word will\n",
        "have a 1 in some other location, and a 0 everywhere else.\n",
        "\n",
        "There is an enormous drawback to this representation, besides just how\n",
        "huge it is. It basically treats all words as independent entities with\n",
        "no relation to each other. What we really want is some notion of\n",
        "*similarity* between words. Why? Let's see an example.\n",
        "\n",
        "Suppose we are building a language model. Suppose we have seen the\n",
        "sentences\n",
        "\n",
        "* The mathematician ran to the store.\n",
        "* The physicist ran to the store.\n",
        "* The mathematician solved the open problem.\n",
        "\n",
        "in our training data. Now suppose we get a new sentence never before\n",
        "seen in our training data:\n",
        "\n",
        "* The physicist solved the open problem.\n",
        "\n",
        "Our language model might do OK on this sentence, but wouldn't it be much\n",
        "better if we could use the following two facts:\n",
        "\n",
        "* We have seen  mathematician and physicist in the same role in a sentence. Somehow they\n",
        "  have a semantic relation.\n",
        "* We have seen mathematician in the same role  in this new unseen sentence\n",
        "  as we are now seeing physicist.\n",
        "\n",
        "and then infer that physicist is actually a good fit in the new unseen\n",
        "sentence? This is what we mean by a notion of similarity: we mean\n",
        "*semantic similarity*, not simply having similar orthographic\n",
        "representations. It is a technique to combat the sparsity of linguistic\n",
        "data, by connecting the dots between what we have seen and what we\n",
        "haven't. This example of course relies on a fundamental linguistic\n",
        "assumption: that words appearing in similar contexts are related to each\n",
        "other semantically. This is called the `distributional\n",
        "hypothesis <https://en.wikipedia.org/wiki/Distributional_semantics>`__.\n",
        "\n",
        "\n",
        "# Getting Dense Word Embeddings\n",
        "\n",
        "How can we solve this problem? That is, how could we actually encode\n",
        "semantic similarity in words? Maybe we think up some semantic\n",
        "attributes. For example, we see that both mathematicians and physicists\n",
        "can run, so maybe we give these words a high score for the \"is able to\n",
        "run\" semantic attribute. Think of some other attributes, and imagine\n",
        "what you might score some common words on those attributes.\n",
        "\n",
        "If each attribute is a dimension, then we might give each word a vector,\n",
        "like this:\n",
        "\n",
        "\\begin{align}q_\\text{mathematician} = \\left[ \\overbrace{2.3}^\\text{can run},\n",
        "   \\overbrace{9.4}^\\text{likes coffee}, \\overbrace{-5.5}^\\text{majored in Physics}, \\dots \\right]\\end{align}\n",
        "\n",
        "\\begin{align}q_\\text{physicist} = \\left[ \\overbrace{2.5}^\\text{can run},\n",
        "   \\overbrace{9.1}^\\text{likes coffee}, \\overbrace{6.4}^\\text{majored in Physics}, \\dots \\right]\\end{align}\n",
        "\n",
        "Then we can get a measure of similarity between these words by doing:\n",
        "\n",
        "\\begin{align}\\text{Similarity}(\\text{physicist}, \\text{mathematician}) = q_\\text{physicist} \\cdot q_\\text{mathematician}\\end{align}\n",
        "\n",
        "Although it is more common to normalize by the lengths:\n",
        "\n",
        "\\begin{align}\\text{Similarity}(\\text{physicist}, \\text{mathematician}) = \\frac{q_\\text{physicist} \\cdot q_\\text{mathematician}}\n",
        "   {\\| q_\\text{\\physicist} \\| \\| q_\\text{mathematician} \\|} = \\cos (\\phi)\\end{align}\n",
        "\n",
        "Where $\\phi$ is the angle between the two vectors. That way,\n",
        "extremely similar words (words whose embeddings point in the same\n",
        "direction) will have similarity 1. Extremely dissimilar words should\n",
        "have similarity -1.\n",
        "\n",
        "\n",
        "You can think of the sparse one-hot vectors from the beginning of this\n",
        "section as a special case of these new vectors we have defined, where\n",
        "each word basically has similarity 0, and we gave each word some unique\n",
        "semantic attribute. These new vectors are *dense*, which is to say their\n",
        "entries are (typically) non-zero.\n",
        "\n",
        "But these new vectors are a big pain: you could think of thousands of\n",
        "different semantic attributes that might be relevant to determining\n",
        "similarity, and how on earth would you set the values of the different\n",
        "attributes? Central to the idea of deep learning is that the neural\n",
        "network learns representations of the features, rather than requiring\n",
        "the programmer to design them herself. So why not just let the word\n",
        "embeddings be parameters in our model, and then be updated during\n",
        "training? This is exactly what we will do. We will have some *latent\n",
        "semantic attributes* that the network can, in principle, learn. Note\n",
        "that the word embeddings will probably not be interpretable. That is,\n",
        "although with our hand-crafted vectors above we can see that\n",
        "mathematicians and physicists are similar in that they both like coffee,\n",
        "if we allow a neural network to learn the embeddings and see that both\n",
        "mathematicians and physicists have a large value in the second\n",
        "dimension, it is not clear what that means. They are similar in some\n",
        "latent semantic dimension, but this probably has no interpretation to\n",
        "us.\n",
        "\n",
        "\n",
        "In summary, **word embeddings are a representation of the *semantics* of\n",
        "a word, efficiently encoding semantic information that might be relevant\n",
        "to the task at hand**. You can embed other things too: part of speech\n",
        "tags, parse trees, anything! The idea of feature embeddings is central\n",
        "to the field.\n",
        "\n",
        "\n",
        "# Word Embeddings in Pytorch\n",
        "\n",
        "Before we get to a worked example and an exercise, a few quick notes\n",
        "about how to use embeddings in Pytorch and in deep learning programming\n",
        "in general. Similar to how we defined a unique index for each word when\n",
        "making one-hot vectors, we also need to define an index for each word\n",
        "when using embeddings. These will be keys into a lookup table. That is,\n",
        "embeddings are stored as a $|V| \\times D$ matrix, where $D$\n",
        "is the dimensionality of the embeddings, such that the word assigned\n",
        "index $i$ has its embedding stored in the $i$'th row of the\n",
        "matrix. In all of my code, the mapping from words to indices is a\n",
        "dictionary named word\\_to\\_ix.\n",
        "\n",
        "The module that allows you to use embeddings is torch.nn.Embedding,\n",
        "which takes two arguments: the vocabulary size, and the dimensionality\n",
        "of the embeddings.\n",
        "\n",
        "To index into this table, you must use torch.LongTensor (since the\n",
        "indices are integers, not floats).\n",
        "\n",
        "\n"
      ]
    },
    {
      "cell_type": "code",
      "execution_count": 2,
      "metadata": {
        "colab": {
          "base_uri": "https://localhost:8080/"
        },
        "id": "M_Q2GVH0OwvH",
        "outputId": "d1992c0c-54c3-4815-dfd1-034ca82961cb"
      },
      "outputs": [
        {
          "data": {
            "text/plain": [
              "<torch._C.Generator at 0x10c905510>"
            ]
          },
          "execution_count": 2,
          "metadata": {},
          "output_type": "execute_result"
        }
      ],
      "source": [
        "# Author: Robert Guthrie\n",
        "\n",
        "import torch\n",
        "import torch.nn as nn\n",
        "import torch.nn.functional as F\n",
        "import torch.optim as optim\n",
        "import numpy as np\n",
        "torch.manual_seed(1)"
      ]
    },
    {
      "cell_type": "code",
      "execution_count": 3,
      "metadata": {
        "colab": {
          "base_uri": "https://localhost:8080/"
        },
        "id": "MN96_fK5Plv6",
        "outputId": "06242940-0964-469a-8f61-39aba10332d3"
      },
      "outputs": [
        {
          "name": "stdout",
          "output_type": "stream",
          "text": [
            "tensor([[ 0.6614,  0.2669,  0.0617,  0.6213, -0.4519]],\n",
            "       grad_fn=<EmbeddingBackward0>)\n"
          ]
        }
      ],
      "source": [
        "word_to_ix = {\"hello\": 0, \"world\": 1}\n",
        "embeds = nn.Embedding(2, 5)  # 2 words in vocab, 5 dimensional embeddings\n",
        "lookup_tensor = torch.tensor([word_to_ix[\"hello\"]], dtype=torch.long)\n",
        "hello_embed = embeds(lookup_tensor)\n",
        "print(hello_embed)"
      ]
    },
    {
      "cell_type": "markdown",
      "metadata": {
        "id": "l3ecRemdPstX"
      },
      "source": [
        "# An Example: N-Gram Language Modeling\n",
        "\n",
        "Recall that in an n-gram language model, given a sequence of words\n",
        "$w$, we want to compute\n",
        "\n",
        "\\begin{align}P(w_i | w_{i-1}, w_{i-2}, \\dots, w_{i-n+1} )\\end{align}\n",
        "\n",
        "Where $w_i$ is the ith word of the sequence.\n",
        "\n",
        "In this example, we will compute the loss function on some training\n",
        "examples and update the parameters with backpropagation."
      ]
    },
    {
      "cell_type": "code",
      "execution_count": 4,
      "metadata": {
        "colab": {
          "base_uri": "https://localhost:8080/"
        },
        "id": "FbPuck6EPn2x",
        "outputId": "9b037d14-ef15-4153-f94a-61af2072e623"
      },
      "outputs": [
        {
          "name": "stdout",
          "output_type": "stream",
          "text": [
            "[(['When', 'forty'], 'winters'), (['forty', 'winters'], 'shall'), (['winters', 'shall'], 'besiege')]\n",
            "Loss in Epoch 0: 523.23\n",
            "Loss in Epoch 1: 520.61\n",
            "Loss in Epoch 2: 518.01\n",
            "Loss in Epoch 3: 515.43\n",
            "Loss in Epoch 4: 512.86\n",
            "Loss in Epoch 5: 510.31\n",
            "Loss in Epoch 6: 507.78\n",
            "Loss in Epoch 7: 505.25\n",
            "Loss in Epoch 8: 502.74\n",
            "Loss in Epoch 9: 500.25\n"
          ]
        }
      ],
      "source": [
        "CONTEXT_SIZE = 2\n",
        "EMBEDDING_DIM = 10\n",
        "# We will use Shakespeare Sonnet 2\n",
        "test_sentence = \"\"\"When forty winters shall besiege thy brow,\n",
        "And dig deep trenches in thy beauty's field,\n",
        "Thy youth's proud livery so gazed on now,\n",
        "Will be a totter'd weed of small worth held:\n",
        "Then being asked, where all thy beauty lies,\n",
        "Where all the treasure of thy lusty days;\n",
        "To say, within thine own deep sunken eyes,\n",
        "Were an all-eating shame, and thriftless praise.\n",
        "How much more praise deserv'd thy beauty's use,\n",
        "If thou couldst answer 'This fair child of mine\n",
        "Shall sum my count, and make my old excuse,'\n",
        "Proving his beauty by succession thine!\n",
        "This were to be new made when thou art old,\n",
        "And see thy blood warm when thou feel'st it cold.\"\"\".split()\n",
        "# we should tokenize the input, but we will ignore that for now\n",
        "# build a list of tuples.  Each tuple is ([ word_i-2, word_i-1 ], target word)\n",
        "trigrams = [([test_sentence[i], test_sentence[i + 1]], test_sentence[i + 2])\n",
        "            for i in range(len(test_sentence) - 2)]\n",
        "# print the first 3, just so you can see what they look like\n",
        "print(trigrams[:3])\n",
        "\n",
        "vocab = set(test_sentence)\n",
        "word_to_ix = {word: i for i, word in enumerate(vocab)}\n",
        "\n",
        "\n",
        "class NGramLanguageModeler(nn.Module):\n",
        "\n",
        "    def __init__(self, vocab_size, embedding_dim, context_size):\n",
        "        super(NGramLanguageModeler, self).__init__()\n",
        "        self.embeddings = nn.Embedding(vocab_size, embedding_dim)\n",
        "        self.linear1 = nn.Linear(context_size * embedding_dim, 128)\n",
        "        self.linear2 = nn.Linear(128, vocab_size)\n",
        "\n",
        "    def forward(self, inputs):\n",
        "        embeds = self.embeddings(inputs).view((1, -1))\n",
        "        out = F.relu(self.linear1(embeds))\n",
        "        out = self.linear2(out)\n",
        "        log_probs = F.log_softmax(out, dim=1)\n",
        "        return log_probs\n",
        "\n",
        "\n",
        "losses = []\n",
        "loss_function = nn.NLLLoss() # Negative Log Likelihood Loss\n",
        "model = NGramLanguageModeler(len(vocab), EMBEDDING_DIM, CONTEXT_SIZE)\n",
        "optimizer = optim.SGD(model.parameters(), lr=0.001)\n",
        "\n",
        "for epoch in range(10):\n",
        "    total_loss = 0\n",
        "    for context, target in trigrams:\n",
        "\n",
        "        # Step 1. Prepare the inputs to be passed to the model (i.e, turn the words\n",
        "        # into integer indices and wrap them in tensors)\n",
        "        context_idxs = torch.tensor([word_to_ix[w] for w in context], dtype=torch.long)\n",
        "\n",
        "        # Step 2. Recall that torch *accumulates* gradients. Before passing in a\n",
        "        # new instance, you need to zero out the gradients from the old\n",
        "        # instance\n",
        "        model.zero_grad()\n",
        "\n",
        "        # Step 3. Run the forward pass, getting log probabilities over next\n",
        "        # words\n",
        "        log_probs = model(context_idxs)\n",
        "\n",
        "        # Step 4. Compute your loss function. (Again, Torch wants the target\n",
        "        # word wrapped in a tensor)\n",
        "        loss = loss_function(log_probs, torch.tensor([word_to_ix[target]], dtype=torch.long))\n",
        "\n",
        "        # Step 5. Do the backward pass and update the gradient\n",
        "        loss.backward()\n",
        "        optimizer.step()\n",
        "\n",
        "        # Get the Python number from a 1-element Tensor by calling tensor.item()\n",
        "        total_loss += loss.item()\n",
        "    print(\"Loss in Epoch {ep}: {l}\".format(ep=epoch, l=np.round(total_loss, 2))) # The loss decreased every iteration over the training data!\n",
        "    losses.append(total_loss)"
      ]
    },
    {
      "cell_type": "markdown",
      "metadata": {
        "id": "7fV7zUnlz7xp"
      },
      "source": [
        "# Exercise: Computing Word Embeddings: Continuous Bag-of-Words\n",
        "\n",
        "The Continuous Bag-of-Words model (CBOW) is frequently used in NLP deep\n",
        "learning. It is a model that tries to predict words given the context of\n",
        "a few words before and a few words after the target word. This is\n",
        "distinct from language modeling, since CBOW is not sequential and does\n",
        "not have to be probabilistic. Typcially, CBOW is used to quickly train\n",
        "word embeddings, and these embeddings are used to initialize the\n",
        "embeddings of some more complicated model. Usually, this is referred to\n",
        "as *pretraining embeddings*. It almost always helps performance a couple\n",
        "of percent.\n",
        "\n",
        "The CBOW model is as follows. Given a target word $w_i$ and an\n",
        "$N$ context window on each side, $w_{i-1}, \\dots, w_{i-N}$\n",
        "and $w_{i+1}, \\dots, w_{i+N}$, referring to all context words\n",
        "collectively as $C$, CBOW tries to minimize\n",
        "\n",
        "\\begin{align}-\\log p(w_i | C) = -\\log \\text{Softmax}(A(\\sum_{w \\in C} q_w) + b)\\end{align}\n",
        "\n",
        "where $q_w$ is the embedding for word $w$.\n"
      ]
    },
    {
      "cell_type": "markdown",
      "metadata": {
        "id": "Pj_2_qqM7Md_"
      },
      "source": [
        "## Exercise Layout\n",
        "### 1. <u>Training CBOW Embeddings</u>\n",
        "1.1) Implement a CBOW Model by completing ```class CBOW(nn.Module)``` and train it on ```raw_text```.    \n",
        "\n",
        "1.2) Load Datasets ```tripadvisor_hotel_reviews_reduced.csv``` and ```scifi_reduced.txt```.     \n",
        "\n",
        "1.3) Decide preprocessing steps by completing the function ```def custom_preprocess()```. Describe your decisions. Note that it's your choice to create different preprocessing functions for hotel reviews and scifi datasets or use the same preprocessing function.             \n",
        "\n",
        "1.4) Train CBOW2 with a context width of 2 (in both directions) for the Hotel Reviews dataset.   \n",
        "\n",
        "1.5) Train CBOW5 with a context width of 5 (in both directions) for the Hotel Reviews dataset. Are predictions made by the model sensitive towards the context size?\n",
        "     \n",
        "1.6) Train CBOW2 with a context width of 2 (in both directions) for the Sci-Fi story dataset.  \n",
        "\n",
        "\n",
        "### 2. <u>Test your Embeddings</u>\n",
        "Note - Do the following for CBOW2, and optionally for CBOW5\n",
        "\n",
        "2.1) For the hotel reviews dataset, choose 3 nouns, 3 verbs, and 3 adjectives. Make sure that some nouns/verbs/adjectives occur frequently in the corpus and that others are rare. For each of the 9 chosen words, retrieve the 5 closest words according to your trained CBOW2 model. List them in your report and comment on the performance of your model: do the neighbours the model provides make sense? Discuss.   \n",
        "\n",
        "2.2) Do the same for Sci-Fi dataset.   \n",
        "\n",
        "2.3) How does the quality of the hotel review-based embeddings compare with the Sci-fi-based embeddings? Elaborate.   \n",
        "\n",
        "2.4) Choose 2 words and retrieve their 5 closest neighbours according to hotel review-based embeddings and the Sci-fi-based embeddings. Do they have different neighbours? If yes, can you reason why?    \n",
        "\n",
        "2.5) What are the differences between CBOW2 and CBOW5 ? Can you \"describe\" them?   \n"
      ]
    },
    {
      "cell_type": "markdown",
      "metadata": {
        "id": "Xvo1QvEf-iT2"
      },
      "source": [
        "### Tips\n",
        "\n",
        "1. Switch from CPU to a GPU instance after you have confirmed that your training procedure is working correctly.\n",
        "2. You can always save your intermediate results (embeddings, preprocessed dataset, model, etc.) in your google drive via colab\n"
      ]
    },
    {
      "cell_type": "markdown",
      "metadata": {
        "id": "vfG8j2JiRMly"
      },
      "source": [
        "\n",
        "### 1.1 Create a CBOW Model by completing ```class CBOW(nn.Module)``` and test it on ```raw_text```\n",
        "Implement CBOW in Pytorch by filling in the class below. Some\n",
        "tips:\n",
        "\n",
        "* Think about which parameters you need to define.\n",
        "* Make sure you know what shape each operation expects. Use .view() if you need to\n",
        "  reshape."
      ]
    },
    {
      "cell_type": "code",
      "execution_count": null,
      "metadata": {
        "id": "YD26-qBLPxU8"
      },
      "outputs": [],
      "source": [
        "def get_bag_of_words(data_input, context_size):\n",
        "\n",
        "    words = [word for sentence in data_input for word in sentence]\n",
        "    vocab = sorted(set(words))\n",
        "    vocab_size = len(vocab)\n",
        "    word_to_ix = {word: i for i, word in enumerate(vocab)}\n",
        "    \n",
        "    data = []\n",
        "    for sentence in data_input:\n",
        "        for i in range(context_size, len(sentence) - context_size):\n",
        "            context = [sentence[i + j] for j in range(-context_size, context_size + 1) if j != 0]\n",
        "            target = sentence[i]\n",
        "            data.append((context, target))\n",
        "    print(\"get_bag_of_words\", data[:5])\n",
        "    return data, word_to_ix, vocab_size\n",
        "\n",
        "def make_context_vector(context, word_to_ix):\n",
        "    idxs = [word_to_ix[w] for w in context]\n",
        "    return torch.tensor(idxs, dtype=torch.long)\n",
        "\n",
        "\n",
        "class CBOW(nn.Module):\n",
        "\n",
        "    def __init__(self):\n",
        "        pass\n",
        "\n",
        "    def forward(self, inputs):\n",
        "        pass\n",
        "\n",
        "\n",
        "\n",
        "\n"
      ]
    },
    {
      "cell_type": "markdown",
      "metadata": {
        "id": "9NbVpFkR77uv"
      },
      "source": [
        "### 1.2 Load Datasets"
      ]
    },
    {
      "cell_type": "code",
      "execution_count": 9,
      "metadata": {
        "id": "i4XpJnxV79rK"
      },
      "outputs": [
        {
          "name": "stdout",
          "output_type": "stream",
          "text": [
            "/Users/elias/Library/Python/3.9/lib/python/site-packages/urllib3/__init__.py:35: NotOpenSSLWarning: urllib3 v2 only supports OpenSSL 1.1.1+, currently the 'ssl' module is compiled with 'LibreSSL 2.8.3'. See: https://github.com/urllib3/urllib3/issues/3020\n",
            "  warnings.warn(\n",
            "Downloading...\n",
            "From: https://drive.google.com/uc?id=1foE1JuZJeu5E_4qVge9kExzhvF32teuF\n",
            "To: /Users/elias/Documents/GitHub/ML4NLP1/exercises/ex2/tripadvisor_hotel_reviews_reduced.csv\n",
            "100%|██████████████████████████████████████| 7.36M/7.36M [00:00<00:00, 26.3MB/s]\n",
            "/Users/elias/Library/Python/3.9/lib/python/site-packages/urllib3/__init__.py:35: NotOpenSSLWarning: urllib3 v2 only supports OpenSSL 1.1.1+, currently the 'ssl' module is compiled with 'LibreSSL 2.8.3'. See: https://github.com/urllib3/urllib3/issues/3020\n",
            "  warnings.warn(\n",
            "Downloading...\n",
            "From: https://drive.google.com/uc?id=13IWXrTjGTrfCd9l7dScZVO8ZvMicPU75\n",
            "To: /Users/elias/Documents/GitHub/ML4NLP1/exercises/ex2/scifi_reduced.txt\n",
            "100%|██████████████████████████████████████| 43.1M/43.1M [00:00<00:00, 45.0MB/s]\n"
          ]
        }
      ],
      "source": [
        "### Load Datasets tripadvisor_hotel_reviews_reduced.csv and scifi_reduced.txt\n",
        "\n",
        "!gdown 1foE1JuZJeu5E_4qVge9kExzhvF32teuF # For Hotel Reviews\n",
        "!gdown 13IWXrTjGTrfCd9l7dScZVO8ZvMicPU75 # For Scifi-Text"
      ]
    },
    {
      "cell_type": "markdown",
      "metadata": {
        "id": "F9AUsLd78JVv"
      },
      "source": [
        "### 1.3 Preprocess Datasets\n",
        "### 🗒❓ Describe your decisions for preprocessing the datasets"
      ]
    },
    {
      "cell_type": "code",
      "execution_count": null,
      "metadata": {
        "id": "9AEF16-v9Erc"
      },
      "outputs": [],
      "source": [
        "### Complete the preprocessing function and apply it to the datasets\n",
        "import spacy\n",
        "\n",
        "nlp = spacy.load(\"en_core_web_sm\", disable=[\"ner\"]) \n",
        "# keep negations\n",
        "stop_keep = {\"not\", \"no\", \"n't\"}\n",
        "custom_stops = (nlp.Defaults.stop_words - stop_keep)\n",
        "\n",
        "def custom_preprocess(dataset):\n",
        "\n",
        "    processed = []\n",
        "    for doc in nlp.pipe(dataset, batch_size=1000, n_process=2):\n",
        "        tokens = [\n",
        "            t.lemma_.lower()\n",
        "            for t in doc\n",
        "            if not t.is_punct\n",
        "            and not t.is_space\n",
        "            and t.lemma_ != \"\"\n",
        "            and (t.is_alpha or t.like_num)\n",
        "        ]\n",
        "        if tokens:\n",
        "            processed.append(tokens)  # one list per input string\n",
        "    print(\"custom_preprocess\", processed[:5])\n",
        "    return processed\n",
        "    \n",
        "\n"
      ]
    },
    {
      "cell_type": "code",
      "execution_count": 38,
      "metadata": {},
      "outputs": [
        {
          "name": "stderr",
          "output_type": "stream",
          "text": [
            "/Users/elias/Library/Python/3.9/lib/python/site-packages/urllib3/__init__.py:35: NotOpenSSLWarning: urllib3 v2 only supports OpenSSL 1.1.1+, currently the 'ssl' module is compiled with 'LibreSSL 2.8.3'. See: https://github.com/urllib3/urllib3/issues/3020\n",
            "  warnings.warn(\n",
            "/Users/elias/Library/Python/3.9/lib/python/site-packages/urllib3/__init__.py:35: NotOpenSSLWarning: urllib3 v2 only supports OpenSSL 1.1.1+, currently the 'ssl' module is compiled with 'LibreSSL 2.8.3'. See: https://github.com/urllib3/urllib3/issues/3020\n",
            "  warnings.warn(\n"
          ]
        },
        {
          "name": "stdout",
          "output_type": "stream",
          "text": [
            "custom_preprocess [['we', 'be', 'about', 'to', 'study', 'the', 'idea', 'of', 'a', 'computational', 'process', 'computational', 'process', 'be', 'abstract', 'being', 'that', 'inhabit', 'computer', 'as', 'they', 'evolve', 'process', 'manipulate', 'other', 'abstract', 'thing', 'call', 'datum', 'the', 'evolution', 'of', 'a', 'process', 'be', 'direct', 'by', 'a', 'pattern', 'of', 'rule', 'call', 'a', 'program', 'people', 'create', 'program', 'to', 'direct', 'process', 'in', 'effect', 'we', 'conjure', 'the', 'spirit', 'of', 'the', 'computer', 'with', 'our', 'spell']]\n",
            "get_bag_of_words [(['we', 'be', 'to', 'study'], 'about'), (['be', 'about', 'study', 'the'], 'to'), (['about', 'to', 'the', 'idea'], 'study'), (['to', 'study', 'idea', 'of'], 'the'), (['study', 'the', 'of', 'a'], 'idea')]\n",
            "[tensor([37,  4, 36, 31]), tensor([ 4,  1, 31, 33]), tensor([ 1, 36, 33, 17]), tensor([36, 31, 17, 21]), tensor([31, 33, 21,  0])]\n",
            "[1, 36, 31, 33, 17]\n",
            "Example pair:\n",
            "Context tensor: tensor([37,  4, 36, 31])\n",
            "Target index: tensor(1)\n"
          ]
        }
      ],
      "source": [
        "#Preprocessing Orchestrator hotel_reviews context_size 2\n",
        "data_input = [\"We are about to study the idea of a computational process. Computational processes are abstract beings that inhabit computers. As they evolve, processes manipulate other abstract things called data. The evolution of a process is directed by a pattern of rules called a program. People create programs to direct processes. In effect, we conjure the spirits of the computer with our spells.\"]\n",
        "context_size = 2\n",
        "preprocessed_data = custom_preprocess(data_input)\n",
        "data, word_to_ix, vocab_size = get_bag_of_words(preprocessed_data, context_size)\n",
        "completely_processed_x = []\n",
        "completely_processed_y = []\n",
        "for bag_of_context_word, target_word in data:\n",
        "    completely_processed_x.append(make_context_vector(bag_of_context_word, word_to_ix))\n",
        "    completely_processed_y.append(word_to_ix[target_word])\n",
        "\n",
        "input_x = torch.stack(completely_processed_x)\n",
        "input_y = torch.tensor(completely_processed_y, dtype=torch.long)\n",
        "print(completely_processed_x[:5])\n",
        "print(completely_processed_y[:5])\n",
        "\n",
        "print(\"Example pair:\")\n",
        "print(\"Context tensor:\", input_x[0])\n",
        "print(\"Target index:\", input_y[0])\n"
      ]
    },
    {
      "cell_type": "markdown",
      "metadata": {
        "id": "5UEHh3zP9nUn"
      },
      "source": [
        "### 1.4 Train CBOW2 with a context width of 2 (in both directions) for the Hotel Reviews dataset."
      ]
    },
    {
      "cell_type": "code",
      "execution_count": null,
      "metadata": {
        "id": "pnMAbYUI9wtI"
      },
      "outputs": [],
      "source": []
    },
    {
      "cell_type": "markdown",
      "metadata": {
        "id": "qn7teyu7987m"
      },
      "source": [
        "### 1.5 Train CBOW5 with a context width of 5 (in both directions) for the Hotel Reviews dataset.  \n",
        "\n",
        "🗒❓ Are predictions made by the model sensitive towards the context size?"
      ]
    },
    {
      "cell_type": "code",
      "execution_count": null,
      "metadata": {},
      "outputs": [],
      "source": [
        "#Preprocessing Orchestrator hotel_reviews context_size 5\n",
        "data_input = [\"We are about to study the idea of a computational process. Computational processes are abstract beings that inhabit computers. As they evolve, processes manipulate other abstract things called data. The evolution of a process is directed by a pattern of rules called a program. People create programs to direct processes. In effect, we conjure the spirits of the computer with our spells.\"]\n",
        "context_size = 5\n",
        "preprocessed_data = custom_preprocess(data_input)\n",
        "data, word_to_ix, vocab_size = get_bag_of_words(preprocessed_data, context_size)\n",
        "completely_processed_x = []\n",
        "completely_processed_y = []\n",
        "for bag_of_context_word, target_word in data:\n",
        "    completely_processed_x.append(make_context_vector(bag_of_context_word, word_to_ix))\n",
        "    completely_processed_y.append(word_to_ix[target_word])\n",
        "\n",
        "input_x = torch.stack(completely_processed_x)\n",
        "input_y = torch.tensor(completely_processed_y, dtype=torch.long)\n",
        "print(completely_processed_x[:5])\n",
        "print(completely_processed_y[:5])\n",
        "\n",
        "print(\"Example pair:\")\n",
        "print(\"Context tensor:\", input_x[0])\n",
        "print(\"Target index:\", input_y[0])"
      ]
    },
    {
      "cell_type": "code",
      "execution_count": null,
      "metadata": {
        "id": "vHVDR0bq-Cqc"
      },
      "outputs": [],
      "source": []
    },
    {
      "cell_type": "markdown",
      "metadata": {
        "id": "AXmEddYd-FSr"
      },
      "source": [
        "### 1.6 Train CBOW2 with a context width of 2 (in both directions) for the Sci-Fi story dataset"
      ]
    },
    {
      "cell_type": "code",
      "execution_count": null,
      "metadata": {},
      "outputs": [],
      "source": [
        "#Preprocessing Orchestrator sci-fi context_size 2\n",
        "data_input = [\"We are about to study the idea of a computational process. Computational processes are abstract beings that inhabit computers. As they evolve, processes manipulate other abstract things called data. The evolution of a process is directed by a pattern of rules called a program. People create programs to direct processes. In effect, we conjure the spirits of the computer with our spells.\"]\n",
        "context_size = 2\n",
        "preprocessed_data = custom_preprocess(data_input)\n",
        "data, word_to_ix, vocab_size = get_bag_of_words(preprocessed_data, context_size)\n",
        "completely_processed_x = []\n",
        "completely_processed_y = []\n",
        "for bag_of_context_word, target_word in data:\n",
        "    completely_processed_x.append(make_context_vector(bag_of_context_word, word_to_ix))\n",
        "    completely_processed_y.append(word_to_ix[target_word])\n",
        "\n",
        "input_x = torch.stack(completely_processed_x)\n",
        "input_y = torch.tensor(completely_processed_y, dtype=torch.long)\n",
        "print(completely_processed_x[:5])\n",
        "print(completely_processed_y[:5])\n",
        "\n",
        "print(\"Example pair:\")\n",
        "print(\"Context tensor:\", input_x[0])\n",
        "print(\"Target index:\", input_y[0])"
      ]
    },
    {
      "cell_type": "code",
      "execution_count": null,
      "metadata": {
        "id": "2U1S_5Hx-Jku"
      },
      "outputs": [],
      "source": []
    },
    {
      "cell_type": "markdown",
      "metadata": {
        "id": "ulqFt2nc_Oq7"
      },
      "source": [
        "### 2.1 For the hotel reviews dataset, choose 3 nouns, 3 verbs, and 3 adjectives. (CBOW2 and optionally for CBOW5)\n",
        "Make sure that some nouns/verbs/adjectives occur frequently in the corpus and that others are rare. For each of the 9 chosen words, retrieve the 5 closest words according to your trained CBOW2 model.    \n",
        "\n",
        "🗒❓ List them in your report (at the end of this notebook) and comment on the performance of your model: do the neighbours the model provides make sense? Discuss.   \n"
      ]
    },
    {
      "cell_type": "code",
      "execution_count": null,
      "metadata": {
        "id": "PRhW1MSU_byy"
      },
      "outputs": [],
      "source": []
    },
    {
      "cell_type": "markdown",
      "metadata": {
        "id": "njWN32I2ADn9"
      },
      "source": [
        "### 2.2 Repeat 2.1 for SciFi Dataset\n",
        "\n",
        "🗒❓ List your findings for SciFi Dataset as well, similarly to 2.1"
      ]
    },
    {
      "cell_type": "code",
      "execution_count": null,
      "metadata": {
        "id": "h3Uyn_VpAWa-"
      },
      "outputs": [],
      "source": []
    },
    {
      "cell_type": "markdown",
      "metadata": {
        "id": "E2yqWM5oAhzf"
      },
      "source": [
        "### 2.3 🗒❓ How does the quality of the hotel review-based embeddings compare with the Sci-fi-based embeddings? Elaborate."
      ]
    },
    {
      "cell_type": "markdown",
      "metadata": {
        "id": "oQrywIKgA1Ct"
      },
      "source": []
    },
    {
      "cell_type": "markdown",
      "metadata": {
        "id": "Ivwn8YCgA4GX"
      },
      "source": [
        "### 2.4 Choose 2 words and retrieve their 5 closest neighbours according to hotel review-based embeddings and the Sci-fi-based embeddings.\n",
        "\n",
        "🗒❓ Do they have different neighbours? If yes, can you reason why?"
      ]
    },
    {
      "cell_type": "code",
      "execution_count": null,
      "metadata": {
        "id": "4J_xUKzgA3gU"
      },
      "outputs": [],
      "source": []
    },
    {
      "cell_type": "markdown",
      "metadata": {
        "id": "DD09lU02Cw7e"
      },
      "source": [
        "### 2.5 🗒❓ What are the differences between CBOW2 and CBOW5 ? Can you \"describe\" them?    "
      ]
    },
    {
      "cell_type": "markdown",
      "metadata": {
        "id": "L9SZlUPM4mZr"
      },
      "source": []
    },
    {
      "cell_type": "markdown",
      "metadata": {
        "id": "RdgWLLHJC24h"
      },
      "source": [
        "### Report\n",
        "The lab report should contain a detailed description of the approaches you have used to solve this exercise. Please also include results.\n",
        "\n",
        "Answers for the questions marked 🗒❓ goes here as well"
      ]
    },
    {
      "cell_type": "markdown",
      "metadata": {
        "id": "eLWqDG2GFV69"
      },
      "source": []
    }
  ],
  "metadata": {
    "colab": {
      "authorship_tag": "ABX9TyONe+w97y8emZNdcEn1hSBH",
      "include_colab_link": true,
      "provenance": []
    },
    "kernelspec": {
      "display_name": "Python 3",
      "name": "python3"
    },
    "language_info": {
      "codemirror_mode": {
        "name": "ipython",
        "version": 3
      },
      "file_extension": ".py",
      "mimetype": "text/x-python",
      "name": "python",
      "nbconvert_exporter": "python",
      "pygments_lexer": "ipython3",
      "version": "3.9.6"
    }
  },
  "nbformat": 4,
  "nbformat_minor": 0
}
