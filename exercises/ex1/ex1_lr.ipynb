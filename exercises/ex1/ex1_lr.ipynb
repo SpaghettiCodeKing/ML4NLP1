{
  "cells": [
    {
      "cell_type": "markdown",
      "metadata": {
        "colab_type": "text",
        "id": "view-in-github"
      },
      "source": [
        "<a href=\"https://colab.research.google.com/github/Andrian0s/ML4NLP1-2024-Tutorial-Notebooks/blob/main/exercises/ex1/ex1_lr.ipynb\" target=\"_parent\"><img src=\"https://colab.research.google.com/assets/colab-badge.svg\" alt=\"Open In Colab\"/></a>"
      ]
    },
    {
      "cell_type": "markdown",
      "metadata": {
        "id": "SwwQqWtxaMWs"
      },
      "source": [
        "# ML4NLP1\n",
        "\n",
        "## Starting Point for Exercise 1, part I\n",
        "\n",
        "This notebook is supposed to serve as a starting point and/or inspiration when starting exercise 1, part I.\n",
        "\n",
        "One of the goals of this exercise is to get you acquainted with sklearn and related libraries like pandas and numpy. You will probably need to consult the documentation of those libraries:\n",
        "- sklearn: [Documentation](https://scikit-learn.org/stable/user_guide.html)\n",
        "- Pandas: [Documentation](https://pandas.pydata.org/docs/#)\n",
        "- NumPy: [Documentation](https://numpy.org/doc/)\n",
        "- SHAP: [Documentation](https://shap.readthedocs.io/en/latest/index.html)\n",
        "\n",
        "## Task Description\n",
        "\n",
        "Follow the instructions in this notebook to:\n",
        "\n",
        "1. Explore the data and create training/test splits for your experiments\n",
        "\n",
        "2. Build a LogisticRegression classifier and design some relevant features to apply it to your data\n",
        "\n",
        "3. Conduct hyperparameter tuning to find the optimal hyperparameters for your model\n",
        "\n",
        "4. Explore your model's predictions and conduct an error analysis to see where the model fails\n",
        "\n",
        "5. Conduct an interpretability analysis, investigating the model's most important features.\n",
        "\n",
        "6. Conduct an ablation study using a subset of languages\n",
        "\n",
        "\n",
        "Throughout the notebook, there are questions that you should address in your report. These are marked with 🗒❓.\n",
        "\n",
        "☝ Note, these questions are intended to provide you with an opportunity to reflect on what it is that you are doing and the kind of challenges you might face along the way.\n",
        "\n",
        "\n"
      ]
    },
    {
      "cell_type": "code",
      "execution_count": 4,
      "metadata": {
        "id": "kBqq-G2daMW7"
      },
      "outputs": [],
      "source": [
        "import pandas as pd\n",
        "import numpy as np\n",
        "\n",
        "# Set seed for reproducibility\n",
        "np.random.seed(42)"
      ]
    },
    {
      "cell_type": "markdown",
      "metadata": {
        "id": "fPqyEvoyURzd"
      },
      "source": [
        "### Loading the datasets"
      ]
    },
    {
      "cell_type": "code",
      "execution_count": 3,
      "metadata": {
        "colab": {
          "base_uri": "https://localhost:8080/"
        },
        "id": "hEqfrri6aMW8",
        "outputId": "7928e9d3-22e1-49e0-f738-bbb46de68046"
      },
      "outputs": [
        {
          "name": "stdout",
          "output_type": "stream",
          "text": [
            "Downloading...\n",
            "From: https://drive.google.com/uc?id=1QP6YuwdKFNUPpvhOaAcvv2Pcp4JMbIRs\n",
            "To: /home/work/Documents/GitHub/ML4NLP1/exercises/ex1/x_train.txt\n",
            "100%|██████████████████████████████████████| 64.1M/64.1M [00:04<00:00, 14.4MB/s]\n",
            "Downloading...\n",
            "From: https://drive.google.com/uc?id=1QVo7PZAdiZKzifK8kwhEr_umosiDCUx6\n",
            "To: /home/work/Documents/GitHub/ML4NLP1/exercises/ex1/x_test.txt\n",
            "100%|██████████████████████████████████████| 65.2M/65.2M [00:05<00:00, 11.1MB/s]\n",
            "Downloading...\n",
            "From: https://drive.google.com/uc?id=1QbBeKcmG2ZyAEFB3AKGTgSWQ1YEMn2jl\n",
            "To: /home/work/Documents/GitHub/ML4NLP1/exercises/ex1/y_train.txt\n",
            "100%|████████████████████████████████████████| 480k/480k [00:00<00:00, 7.69MB/s]\n",
            "Downloading...\n",
            "From: https://drive.google.com/uc?id=1QaZj6bI7_78ymnN8IpSk4gVvg-C9fA6X\n",
            "To: /home/work/Documents/GitHub/ML4NLP1/exercises/ex1/y_test.txt\n",
            "100%|████████████████████████████████████████| 480k/480k [00:00<00:00, 9.13MB/s]\n"
          ]
        }
      ],
      "source": [
        "\n",
        "# Download dataset\n",
        "!gdown 1QP6YuwdKFNUPpvhOaAcvv2Pcp4JMbIRs # x_train\n",
        "!gdown 1QVo7PZAdiZKzifK8kwhEr_umosiDCUx6 # x_test\n",
        "!gdown 1QbBeKcmG2ZyAEFB3AKGTgSWQ1YEMn2jl # y_train\n",
        "!gdown 1QaZj6bI7_78ymnN8IpSk4gVvg-C9fA6X # y_test"
      ]
    },
    {
      "cell_type": "code",
      "execution_count": 5,
      "metadata": {
        "id": "oU9VZeEEabMQ"
      },
      "outputs": [],
      "source": [
        "with open(f'x_train.txt') as f:\n",
        "    x_train = f.read().splitlines()\n",
        "with open(f'y_train.txt') as f:\n",
        "    y_train = f.read().splitlines()\n",
        "with open(f'x_test.txt') as f:\n",
        "    x_test = f.read().splitlines()\n",
        "with open(f'y_test.txt') as f:\n",
        "    y_test = f.read().splitlines()"
      ]
    },
    {
      "cell_type": "code",
      "execution_count": 6,
      "metadata": {
        "colab": {
          "base_uri": "https://localhost:8080/",
          "height": 206
        },
        "id": "n4PijB0TaMW8",
        "outputId": "44e91634-aeac-4273-9a5a-e583dd4a6d13"
      },
      "outputs": [
        {
          "data": {
            "text/html": [
              "<div>\n",
              "<style scoped>\n",
              "    .dataframe tbody tr th:only-of-type {\n",
              "        vertical-align: middle;\n",
              "    }\n",
              "\n",
              "    .dataframe tbody tr th {\n",
              "        vertical-align: top;\n",
              "    }\n",
              "\n",
              "    .dataframe thead th {\n",
              "        text-align: right;\n",
              "    }\n",
              "</style>\n",
              "<table border=\"1\" class=\"dataframe\">\n",
              "  <thead>\n",
              "    <tr style=\"text-align: right;\">\n",
              "      <th></th>\n",
              "      <th>text</th>\n",
              "      <th>label</th>\n",
              "    </tr>\n",
              "  </thead>\n",
              "  <tbody>\n",
              "    <tr>\n",
              "      <th>0</th>\n",
              "      <td>Klement Gottwaldi surnukeha palsameeriti ning ...</td>\n",
              "      <td>est</td>\n",
              "    </tr>\n",
              "    <tr>\n",
              "      <th>1</th>\n",
              "      <td>Sebes, Joseph; Pereira Thomas (1961) (på eng)....</td>\n",
              "      <td>swe</td>\n",
              "    </tr>\n",
              "    <tr>\n",
              "      <th>2</th>\n",
              "      <td>भारतीय स्वातन्त्र्य आन्दोलन राष्ट्रीय एवम क्षे...</td>\n",
              "      <td>mai</td>\n",
              "    </tr>\n",
              "    <tr>\n",
              "      <th>3</th>\n",
              "      <td>Après lo cort periòde d'establiment a Basilèa,...</td>\n",
              "      <td>oci</td>\n",
              "    </tr>\n",
              "    <tr>\n",
              "      <th>4</th>\n",
              "      <td>ถนนเจริญกรุง (อักษรโรมัน: Thanon Charoen Krung...</td>\n",
              "      <td>tha</td>\n",
              "    </tr>\n",
              "  </tbody>\n",
              "</table>\n",
              "</div>"
            ],
            "text/plain": [
              "                                                text label\n",
              "0  Klement Gottwaldi surnukeha palsameeriti ning ...   est\n",
              "1  Sebes, Joseph; Pereira Thomas (1961) (på eng)....   swe\n",
              "2  भारतीय स्वातन्त्र्य आन्दोलन राष्ट्रीय एवम क्षे...   mai\n",
              "3  Après lo cort periòde d'establiment a Basilèa,...   oci\n",
              "4  ถนนเจริญกรุง (อักษรโรมัน: Thanon Charoen Krung...   tha"
            ]
          },
          "execution_count": 6,
          "metadata": {},
          "output_type": "execute_result"
        }
      ],
      "source": [
        "# Combine x_train and y_train into one dataframe\n",
        "train_df = pd.DataFrame({'text': x_train, 'label': y_train})\n",
        "# Write train_df to csv with tab as separator\n",
        "train_df.to_csv('train_df.csv', index=False, sep='\\t')\n",
        "# Comibne x_test and y_test into one dataframe\n",
        "test_df = pd.DataFrame({'text': x_test, 'label': y_test})\n",
        "# Inspect the first 5 items in the train split\n",
        "train_df.head()"
      ]
    },
    {
      "cell_type": "code",
      "execution_count": 7,
      "metadata": {
        "colab": {
          "base_uri": "https://localhost:8080/"
        },
        "id": "_96MFk6daMW9",
        "outputId": "3f1fa135-5b23-4225-82d3-af1de103a834"
      },
      "outputs": [
        {
          "name": "stdout",
          "output_type": "stream",
          "text": [
            "['est', 'swe', 'mai', 'oci', 'tha', 'orm', 'lim', 'guj', 'pnb', 'zea', 'krc', 'hat', 'pcd', 'tam', 'vie', 'pan', 'szl', 'ckb', 'fur', 'wuu', 'arz', 'ton', 'eus', 'map-bms', 'glk', 'nld', 'bod', 'jpn', 'arg', 'srd', 'ext', 'sin', 'kur', 'che', 'tuk', 'pag', 'tur', 'als', 'koi', 'lat', 'urd', 'tat', 'bxr', 'ind', 'kir', 'zh-yue', 'dan', 'por', 'fra', 'ori', 'nob', 'jbo', 'kok', 'amh', 'khm', 'hbs', 'slv', 'bos', 'tet', 'zho', 'kor', 'sah', 'rup', 'ast', 'wol', 'bul', 'gla', 'msa', 'crh', 'lug', 'sun', 'bre', 'mon', 'nep', 'ibo', 'cdo', 'asm', 'grn', 'hin', 'mar', 'lin', 'ile', 'lmo', 'mya', 'ilo', 'csb', 'tyv', 'gle', 'nan', 'jam', 'scn', 'be-tarask', 'diq', 'cor', 'fao', 'mlg', 'yid', 'sme', 'spa', 'kbd', 'udm', 'isl', 'ksh', 'san', 'aze', 'nap', 'dsb', 'pam', 'cym', 'srp', 'stq', 'tel', 'swa', 'vls', 'mzn', 'bel', 'lad', 'ina', 'ava', 'lao', 'min', 'ita', 'nds-nl', 'oss', 'kab', 'pus', 'fin', 'snd', 'kaa', 'fas', 'cbk', 'cat', 'nci', 'mhr', 'roa-tara', 'frp', 'ron', 'new', 'bar', 'ltg', 'vro', 'lav', 'ces', 'yor', 'nso', 'bak', 'rus', 'ace', 'mdf', 'vep', 'sgs', 'uig', 'lit', 'sqi', 'som', 'slk', 'sco', 'ukr', 'mri', 'hrv', 'vol', 'eng', 'glv', 'ben', 'ido', 'jav', 'tcy', 'mrj', 'hif', 'sna', 'war', 'mlt', 'egl', 'tsn', 'lez', 'hak', 'kom', 'azb', 'que', 'lzh', 'ara', 'fry', 'dty', 'mal', 'heb', 'gag', 'chv', 'afr', 'pap', 'kin', 'ang', 'kaz', 'bjn', 'hye', 'olo', 'xmf', 'uzb', 'bcl', 'pdc', 'hsb', 'srn', 'kat', 'tgl', 'nno', 'glg', 'roh', 'kan', 'chr', 'lrc', 'div', 'myv', 'cos', 'hun', 'nrm', 'pfl', 'wln', 'bho', 'epo', 'deu', 'nav', 'mwl', 'pol', 'rue', 'vec', 'nds', 'aym', 'tgk', 'ceb', 'xho', 'bpy', 'ell', 'lij', 'hau', 'mkd', 'ltz']\n"
          ]
        }
      ],
      "source": [
        "# Get list of all labels\n",
        "labels = train_df['label'].unique().tolist()\n",
        "print(labels)"
      ]
    },
    {
      "cell_type": "markdown",
      "metadata": {
        "id": "CSMKrNfm8Vzs"
      },
      "source": [
        "\n",
        "### 1.1 Exploring the training data\n",
        "\n",
        "📝❓Take a look at a couple of texts from different languages and answer the following questions:\n",
        "\n",
        "1. Do you notice anything that might be challenging for the classification?\n",
        "There are a lot of really close languages in the dataset. Like Czech and Slovak, Polish and Kashubian, Upper Sorbian and Lower Sorbian and a lot more. This is just a small illustrative sample.\n",
        "2. How is the data distributed? (i.e., how many instances per label are there in the training and test set? Is it a balanced dataset?)\n",
        "Yes, it is a perfectly balanced set. We have exactly 500 instances per class.\n",
        "3. Do you think the train/test split is appropriate (i.e., is the test data representative of the training data)? If not, please rearrange the data in a more appropriate way.\n",
        "The original test/train split is not appropriate. We have the same ammount of training and test data. Normally these distributions are more in the range of 80/20 train/test...\n",
        "So I will concat them and make new distributions."
      ]
    },
    {
      "cell_type": "code",
      "execution_count": 8,
      "metadata": {
        "id": "Dd2MQGaZ9EsZ"
      },
      "outputs": [
        {
          "name": "stdout",
          "output_type": "stream",
          "text": [
            "label\n",
            "est          500\n",
            "swe          500\n",
            "mai          500\n",
            "oci          500\n",
            "tha          500\n",
            "orm          500\n",
            "lim          500\n",
            "guj          500\n",
            "pnb          500\n",
            "zea          500\n",
            "krc          500\n",
            "hat          500\n",
            "pcd          500\n",
            "tam          500\n",
            "vie          500\n",
            "pan          500\n",
            "szl          500\n",
            "ckb          500\n",
            "fur          500\n",
            "wuu          500\n",
            "arz          500\n",
            "ton          500\n",
            "eus          500\n",
            "map-bms      500\n",
            "glk          500\n",
            "nld          500\n",
            "bod          500\n",
            "jpn          500\n",
            "arg          500\n",
            "srd          500\n",
            "ext          500\n",
            "sin          500\n",
            "kur          500\n",
            "che          500\n",
            "tuk          500\n",
            "pag          500\n",
            "tur          500\n",
            "als          500\n",
            "koi          500\n",
            "lat          500\n",
            "urd          500\n",
            "tat          500\n",
            "bxr          500\n",
            "ind          500\n",
            "kir          500\n",
            "zh-yue       500\n",
            "dan          500\n",
            "por          500\n",
            "fra          500\n",
            "ori          500\n",
            "nob          500\n",
            "jbo          500\n",
            "kok          500\n",
            "amh          500\n",
            "khm          500\n",
            "hbs          500\n",
            "slv          500\n",
            "bos          500\n",
            "tet          500\n",
            "zho          500\n",
            "kor          500\n",
            "sah          500\n",
            "rup          500\n",
            "ast          500\n",
            "wol          500\n",
            "bul          500\n",
            "gla          500\n",
            "msa          500\n",
            "crh          500\n",
            "lug          500\n",
            "sun          500\n",
            "bre          500\n",
            "mon          500\n",
            "nep          500\n",
            "ibo          500\n",
            "cdo          500\n",
            "asm          500\n",
            "grn          500\n",
            "hin          500\n",
            "mar          500\n",
            "lin          500\n",
            "ile          500\n",
            "lmo          500\n",
            "mya          500\n",
            "ilo          500\n",
            "csb          500\n",
            "tyv          500\n",
            "gle          500\n",
            "nan          500\n",
            "jam          500\n",
            "scn          500\n",
            "be-tarask    500\n",
            "diq          500\n",
            "cor          500\n",
            "fao          500\n",
            "mlg          500\n",
            "yid          500\n",
            "sme          500\n",
            "spa          500\n",
            "kbd          500\n",
            "udm          500\n",
            "isl          500\n",
            "ksh          500\n",
            "san          500\n",
            "aze          500\n",
            "nap          500\n",
            "dsb          500\n",
            "pam          500\n",
            "cym          500\n",
            "srp          500\n",
            "stq          500\n",
            "tel          500\n",
            "swa          500\n",
            "vls          500\n",
            "mzn          500\n",
            "bel          500\n",
            "lad          500\n",
            "ina          500\n",
            "ava          500\n",
            "lao          500\n",
            "min          500\n",
            "ita          500\n",
            "nds-nl       500\n",
            "oss          500\n",
            "kab          500\n",
            "pus          500\n",
            "fin          500\n",
            "snd          500\n",
            "kaa          500\n",
            "fas          500\n",
            "cbk          500\n",
            "cat          500\n",
            "nci          500\n",
            "mhr          500\n",
            "roa-tara     500\n",
            "frp          500\n",
            "ron          500\n",
            "new          500\n",
            "bar          500\n",
            "ltg          500\n",
            "vro          500\n",
            "lav          500\n",
            "ces          500\n",
            "yor          500\n",
            "nso          500\n",
            "bak          500\n",
            "rus          500\n",
            "ace          500\n",
            "mdf          500\n",
            "vep          500\n",
            "sgs          500\n",
            "uig          500\n",
            "lit          500\n",
            "sqi          500\n",
            "som          500\n",
            "slk          500\n",
            "sco          500\n",
            "ukr          500\n",
            "mri          500\n",
            "hrv          500\n",
            "vol          500\n",
            "eng          500\n",
            "glv          500\n",
            "ben          500\n",
            "ido          500\n",
            "jav          500\n",
            "tcy          500\n",
            "mrj          500\n",
            "hif          500\n",
            "sna          500\n",
            "war          500\n",
            "mlt          500\n",
            "egl          500\n",
            "tsn          500\n",
            "lez          500\n",
            "hak          500\n",
            "kom          500\n",
            "azb          500\n",
            "que          500\n",
            "lzh          500\n",
            "ara          500\n",
            "fry          500\n",
            "dty          500\n",
            "mal          500\n",
            "heb          500\n",
            "gag          500\n",
            "chv          500\n",
            "afr          500\n",
            "pap          500\n",
            "kin          500\n",
            "ang          500\n",
            "kaz          500\n",
            "bjn          500\n",
            "hye          500\n",
            "olo          500\n",
            "xmf          500\n",
            "uzb          500\n",
            "bcl          500\n",
            "pdc          500\n",
            "hsb          500\n",
            "srn          500\n",
            "kat          500\n",
            "tgl          500\n",
            "nno          500\n",
            "glg          500\n",
            "roh          500\n",
            "kan          500\n",
            "chr          500\n",
            "lrc          500\n",
            "div          500\n",
            "myv          500\n",
            "cos          500\n",
            "hun          500\n",
            "nrm          500\n",
            "pfl          500\n",
            "wln          500\n",
            "bho          500\n",
            "epo          500\n",
            "deu          500\n",
            "nav          500\n",
            "mwl          500\n",
            "pol          500\n",
            "rue          500\n",
            "vec          500\n",
            "nds          500\n",
            "aym          500\n",
            "tgk          500\n",
            "ceb          500\n",
            "xho          500\n",
            "bpy          500\n",
            "ell          500\n",
            "lij          500\n",
            "hau          500\n",
            "mkd          500\n",
            "ltz          500\n",
            "Name: count, dtype: int64\n",
            "Training samples: 117500\n",
            "Testing samples: 117500\n",
            "label\n",
            "est          1000\n",
            "swe          1000\n",
            "mai          1000\n",
            "oci          1000\n",
            "tha          1000\n",
            "orm          1000\n",
            "lim          1000\n",
            "guj          1000\n",
            "pnb          1000\n",
            "zea          1000\n",
            "krc          1000\n",
            "hat          1000\n",
            "pcd          1000\n",
            "tam          1000\n",
            "vie          1000\n",
            "pan          1000\n",
            "szl          1000\n",
            "ckb          1000\n",
            "fur          1000\n",
            "wuu          1000\n",
            "arz          1000\n",
            "ton          1000\n",
            "eus          1000\n",
            "map-bms      1000\n",
            "glk          1000\n",
            "nld          1000\n",
            "bod          1000\n",
            "jpn          1000\n",
            "arg          1000\n",
            "srd          1000\n",
            "ext          1000\n",
            "sin          1000\n",
            "kur          1000\n",
            "che          1000\n",
            "tuk          1000\n",
            "pag          1000\n",
            "tur          1000\n",
            "als          1000\n",
            "koi          1000\n",
            "lat          1000\n",
            "urd          1000\n",
            "tat          1000\n",
            "bxr          1000\n",
            "ind          1000\n",
            "kir          1000\n",
            "zh-yue       1000\n",
            "dan          1000\n",
            "por          1000\n",
            "fra          1000\n",
            "ori          1000\n",
            "nob          1000\n",
            "jbo          1000\n",
            "kok          1000\n",
            "amh          1000\n",
            "khm          1000\n",
            "hbs          1000\n",
            "slv          1000\n",
            "bos          1000\n",
            "tet          1000\n",
            "zho          1000\n",
            "kor          1000\n",
            "sah          1000\n",
            "rup          1000\n",
            "ast          1000\n",
            "wol          1000\n",
            "bul          1000\n",
            "gla          1000\n",
            "msa          1000\n",
            "crh          1000\n",
            "lug          1000\n",
            "sun          1000\n",
            "bre          1000\n",
            "mon          1000\n",
            "nep          1000\n",
            "ibo          1000\n",
            "cdo          1000\n",
            "asm          1000\n",
            "grn          1000\n",
            "hin          1000\n",
            "mar          1000\n",
            "lin          1000\n",
            "ile          1000\n",
            "lmo          1000\n",
            "mya          1000\n",
            "ilo          1000\n",
            "csb          1000\n",
            "tyv          1000\n",
            "gle          1000\n",
            "nan          1000\n",
            "jam          1000\n",
            "scn          1000\n",
            "be-tarask    1000\n",
            "diq          1000\n",
            "cor          1000\n",
            "fao          1000\n",
            "mlg          1000\n",
            "yid          1000\n",
            "sme          1000\n",
            "spa          1000\n",
            "kbd          1000\n",
            "udm          1000\n",
            "isl          1000\n",
            "ksh          1000\n",
            "san          1000\n",
            "aze          1000\n",
            "nap          1000\n",
            "dsb          1000\n",
            "pam          1000\n",
            "cym          1000\n",
            "srp          1000\n",
            "stq          1000\n",
            "tel          1000\n",
            "swa          1000\n",
            "vls          1000\n",
            "mzn          1000\n",
            "bel          1000\n",
            "lad          1000\n",
            "ina          1000\n",
            "ava          1000\n",
            "lao          1000\n",
            "min          1000\n",
            "ita          1000\n",
            "nds-nl       1000\n",
            "oss          1000\n",
            "kab          1000\n",
            "pus          1000\n",
            "fin          1000\n",
            "snd          1000\n",
            "kaa          1000\n",
            "fas          1000\n",
            "cbk          1000\n",
            "cat          1000\n",
            "nci          1000\n",
            "mhr          1000\n",
            "roa-tara     1000\n",
            "frp          1000\n",
            "ron          1000\n",
            "new          1000\n",
            "bar          1000\n",
            "ltg          1000\n",
            "vro          1000\n",
            "lav          1000\n",
            "ces          1000\n",
            "yor          1000\n",
            "nso          1000\n",
            "bak          1000\n",
            "rus          1000\n",
            "ace          1000\n",
            "mdf          1000\n",
            "vep          1000\n",
            "sgs          1000\n",
            "uig          1000\n",
            "lit          1000\n",
            "sqi          1000\n",
            "som          1000\n",
            "slk          1000\n",
            "sco          1000\n",
            "ukr          1000\n",
            "mri          1000\n",
            "hrv          1000\n",
            "vol          1000\n",
            "eng          1000\n",
            "glv          1000\n",
            "ben          1000\n",
            "ido          1000\n",
            "jav          1000\n",
            "tcy          1000\n",
            "mrj          1000\n",
            "hif          1000\n",
            "sna          1000\n",
            "war          1000\n",
            "mlt          1000\n",
            "egl          1000\n",
            "tsn          1000\n",
            "lez          1000\n",
            "hak          1000\n",
            "kom          1000\n",
            "azb          1000\n",
            "que          1000\n",
            "lzh          1000\n",
            "ara          1000\n",
            "fry          1000\n",
            "dty          1000\n",
            "mal          1000\n",
            "heb          1000\n",
            "gag          1000\n",
            "chv          1000\n",
            "afr          1000\n",
            "pap          1000\n",
            "kin          1000\n",
            "ang          1000\n",
            "kaz          1000\n",
            "bjn          1000\n",
            "hye          1000\n",
            "olo          1000\n",
            "xmf          1000\n",
            "uzb          1000\n",
            "bcl          1000\n",
            "pdc          1000\n",
            "hsb          1000\n",
            "srn          1000\n",
            "kat          1000\n",
            "tgl          1000\n",
            "nno          1000\n",
            "glg          1000\n",
            "roh          1000\n",
            "kan          1000\n",
            "chr          1000\n",
            "lrc          1000\n",
            "div          1000\n",
            "myv          1000\n",
            "cos          1000\n",
            "hun          1000\n",
            "nrm          1000\n",
            "pfl          1000\n",
            "wln          1000\n",
            "bho          1000\n",
            "epo          1000\n",
            "deu          1000\n",
            "nav          1000\n",
            "mwl          1000\n",
            "pol          1000\n",
            "rue          1000\n",
            "vec          1000\n",
            "nds          1000\n",
            "aym          1000\n",
            "tgk          1000\n",
            "ceb          1000\n",
            "xho          1000\n",
            "bpy          1000\n",
            "ell          1000\n",
            "lij          1000\n",
            "hau          1000\n",
            "mkd          1000\n",
            "ltz          1000\n",
            "Name: count, dtype: int64\n",
            "Full_df samples: 235000\n"
          ]
        }
      ],
      "source": [
        "import pandas as pd\n",
        "\n",
        "pd.set_option('display.max_rows', None)\n",
        "# Print the full label distribution\n",
        "print(train_df['label'].value_counts())\n",
        "\n",
        "print(\"Training samples:\", len(train_df))\n",
        "print(\"Testing samples:\", len(test_df))\n",
        "\n",
        "# Concatenate train and test dataframes\n",
        "full_df = pd.concat([train_df, test_df]).reset_index(drop=True)\n",
        "# Inspect the new dataframe\n",
        "print(full_df['label'].value_counts())\n",
        "\n",
        "print(\"Full_df samples:\", len(full_df))\n",
        "\n"
      ]
    },
    {
      "cell_type": "markdown",
      "metadata": {
        "id": "lz23kAYi8htB"
      },
      "source": [
        "### 1.2 Data preparation\n",
        "\n",
        "Get a subset of the train/test data that includes 20 languages.\n",
        "Include English, German, Dutch, Danish, Swedish, Norwegian, and Japanese, plus 13 additional languages of your choice based on the items in the list of labels."
      ]
    },
    {
      "cell_type": "code",
      "execution_count": 9,
      "metadata": {
        "id": "SghPjc0V9ECd"
      },
      "outputs": [],
      "source": [
        "from sklearn.model_selection import train_test_split\n",
        "\n",
        "subset_df = full_df[full_df['label'].isin(['eng', 'deu', 'nld', 'dan', 'swe', 'nob', 'jpn', 'cmn', 'rus', 'ukr', 'gle', 'fin', 'ara', 'hin', 'asm', 'tam', 'cor', 'wuu', 'khm', 'jav'])]\n",
        "final_train_df, final_test_df = train_test_split(subset_df, \n",
        "                                                test_size=0.2, \n",
        "                                                stratify=subset_df['label'], \n",
        "                                                random_state=42)\n",
        "\n",
        "X_train_final = final_train_df['text']\n",
        "y_train_final = final_train_df['label']\n",
        "X_test_final  = final_test_df['text']\n",
        "y_test_final  = final_test_df['label']"
      ]
    },
    {
      "cell_type": "code",
      "execution_count": 10,
      "metadata": {
        "id": "wmNmkFzsU_LS"
      },
      "outputs": [
        {
          "name": "stdout",
          "output_type": "stream",
          "text": [
            "Classes: ['ara' 'asm' 'cor' 'dan' 'deu' 'eng' 'fin' 'gle' 'hin' 'jav' 'jpn' 'khm'\n",
            " 'nld' 'nob' 'rus' 'swe' 'tam' 'ukr' 'wuu']\n",
            "Encoded y_train: [ 8  1  3 ...  0 16 11]\n",
            "Encoded y_test: [17  0 14 ... 12  3 18]\n"
          ]
        }
      ],
      "source": [
        "# TODO: With the following code, we wanted to ENCODE the labels, however, our cat was walking on the keyboard and some of it got changed. Can you fix it?\n",
        "from sklearn.preprocessing import LabelEncoder\n",
        "\n",
        "label_encoder = LabelEncoder().fit(y_train_final)\n",
        "y_train_enc, y_test_enc = label_encoder.transform(y_train_final), label_encoder.transform(y_test_final)\n",
        "pd.set_option('display.max_columns', None)\n",
        "print(\"Classes:\", label_encoder.classes_)\n",
        "print(\"Encoded y_train:\", y_train_enc)\n",
        "print(\"Encoded y_test:\", y_test_enc)"
      ]
    },
    {
      "cell_type": "markdown",
      "metadata": {
        "id": "okK-6q5CW6tK"
      },
      "source": [
        "### 2.1 Build a LogisticRegression classifier\n",
        "\n",
        "To start with, we're going to build a very simple LogisticRegression classifier.\n",
        "Use a `Pipeline` to chain togther a `CountVectorizer` and a `LogisticRegression` estimator. Then perform a 5-fold cross validation and report the scores of this model as a baseline."
      ]
    },
    {
      "cell_type": "code",
      "execution_count": 8,
      "metadata": {
        "id": "p4HlptuhMgBh"
      },
      "outputs": [],
      "source": [
        "from sklearn.feature_extraction.text import CountVectorizer\n",
        "from sklearn.linear_model import LogisticRegression\n",
        "from sklearn.pipeline import Pipeline\n",
        "from sklearn.model_selection import cross_val_score\n",
        "\n",
        "# TODO: Define a very basic pipeline using a CountVectorizer and a LogisticRegression classifier\n",
        "pipeline = Pipeline([\n",
        "    ('vectorizer', CountVectorizer()),\n",
        "    ('classifier', LogisticRegression(max_iter=1000))\n",
        "])\n",
        "\n",
        "\n"
      ]
    },
    {
      "cell_type": "code",
      "execution_count": 9,
      "metadata": {
        "id": "poIzePbjMrLc"
      },
      "outputs": [
        {
          "name": "stdout",
          "output_type": "stream",
          "text": [
            "Cross-validation scores: [0.94046053 0.9375     0.92730263 0.93782895 0.93717105]\n",
            "Mean cross-validation score: 0.9360526315789475\n",
            "Standard deviation of cross-validation scores: 0.0045275396142329775\n"
          ]
        }
      ],
      "source": [
        "# TODO: Run a cross validation to estimate the model's expected performance\n",
        "scores = cross_val_score(pipeline, final_train_df['text'], final_train_df['label'], cv=5, scoring='accuracy')\n",
        "\n",
        "print(\"Cross-validation scores:\", scores)\n",
        "print(\"Mean cross-validation score:\", scores.mean())\n",
        "print(\"Standard deviation of cross-validation scores:\", scores.std())"
      ]
    },
    {
      "cell_type": "markdown",
      "metadata": {
        "id": "cm7auSCoQ2mn"
      },
      "source": [
        "\n",
        "### 2.2 Feature Engineering\n",
        "\n",
        "So far, we've only considered the basic `CountVectorizer` at the word level to encode our input texts for our model.\n",
        "\n",
        "Your task is to apply some text preprocessing and engineer some more informative features.\n",
        "\n",
        "To do this, think about what other features might be relevant for determining the language of an input text.\n",
        "\n",
        "Define a custom set of feature extractors and implement the necessary preprocessing steps to extract these features from strings.\n",
        "\n",
        "Then initialise a processing pipeline that converts your input data into features that the model can take as input.\n",
        "\n",
        "☝ Note, this step can be as involved as your heart desires, there is only one minimal requirement: you must use something more than the base `CountVectorizer`. We recommend that you take a look at the [`BaseEstimator`](https://scikit-learn.org/stable/modules/generated/sklearn.base.BaseEstimator.html) and [`TransformerMixin`](https://scikit-learn.org/stable/modules/generated/sklearn.base.TransformerMixin.html#transformermixin) classes from `sk-learn`, as these can be helpful for defining custom transformers.\n"
      ]
    },
    {
      "cell_type": "code",
      "execution_count": 10,
      "metadata": {
        "id": "e6IJia5ge13b"
      },
      "outputs": [],
      "source": [
        "from sklearn.feature_extraction.text import TfidfVectorizer\n",
        "\n",
        "vectorizer = TfidfVectorizer(\n",
        "    analyzer='char',\n",
        "    ngram_range=(2, 4),\n",
        "    max_features=20000,\n",
        "    sublinear_tf=True,\n",
        "    min_df=2\n",
        ")\n",
        "\n",
        "# Fit on training data\n",
        "X_train_vec = vectorizer.fit_transform(X_train_final)\n",
        "\n",
        "# Transform test data with the same vectorizer\n",
        "X_test_vec = vectorizer.transform(X_test_final)\n"
      ]
    },
    {
      "cell_type": "markdown",
      "metadata": {
        "id": "uFVupMHhfJN9"
      },
      "source": [
        "---\n",
        "\n",
        "### 3.1 Grid Search\n",
        "\n",
        "Use sklearn's GridSearchCV and experiment with the following hyperparameters:\n",
        "1. Penalty (Regularization)\n",
        "2. Solver\n",
        "3. Experiment with parameters of the Vectorizer (optional, but highly advised)\n",
        "\n",
        "☝ Note, don't overdo it at the beginning, since runtime might go up fast!\n",
        "\n",
        "Make sure you read through the [docs](https://scikit-learn.org/1.5/modules/generated/sklearn.linear_model.LogisticRegression.html#logisticregression) to get an understanding of what these parameters do.\n"
      ]
    },
    {
      "cell_type": "code",
      "execution_count": null,
      "metadata": {
        "id": "M5s11IcneIU6"
      },
      "outputs": [
        {
          "name": "stderr",
          "output_type": "stream",
          "text": [
            "/home/work/.local/lib/python3.13/site-packages/sklearn/linear_model/_logistic.py:1296: FutureWarning: Using the 'liblinear' solver for multiclass classification is deprecated. An error will be raised in 1.8. Either use another solver which supports the multinomial loss or wrap the estimator in a OneVsRestClassifier to keep applying a one-versus-rest scheme.\n",
            "  warnings.warn(\n",
            "/home/work/.local/lib/python3.13/site-packages/sklearn/linear_model/_logistic.py:1296: FutureWarning: Using the 'liblinear' solver for multiclass classification is deprecated. An error will be raised in 1.8. Either use another solver which supports the multinomial loss or wrap the estimator in a OneVsRestClassifier to keep applying a one-versus-rest scheme.\n",
            "  warnings.warn(\n",
            "/home/work/.local/lib/python3.13/site-packages/sklearn/linear_model/_logistic.py:1296: FutureWarning: Using the 'liblinear' solver for multiclass classification is deprecated. An error will be raised in 1.8. Either use another solver which supports the multinomial loss or wrap the estimator in a OneVsRestClassifier to keep applying a one-versus-rest scheme.\n",
            "  warnings.warn(\n",
            "/home/work/.local/lib/python3.13/site-packages/sklearn/linear_model/_logistic.py:1296: FutureWarning: Using the 'liblinear' solver for multiclass classification is deprecated. An error will be raised in 1.8. Either use another solver which supports the multinomial loss or wrap the estimator in a OneVsRestClassifier to keep applying a one-versus-rest scheme.\n",
            "  warnings.warn(\n",
            "/home/work/.local/lib/python3.13/site-packages/sklearn/linear_model/_logistic.py:1296: FutureWarning: Using the 'liblinear' solver for multiclass classification is deprecated. An error will be raised in 1.8. Either use another solver which supports the multinomial loss or wrap the estimator in a OneVsRestClassifier to keep applying a one-versus-rest scheme.\n",
            "  warnings.warn(\n",
            "/home/work/.local/lib/python3.13/site-packages/sklearn/linear_model/_logistic.py:1296: FutureWarning: Using the 'liblinear' solver for multiclass classification is deprecated. An error will be raised in 1.8. Either use another solver which supports the multinomial loss or wrap the estimator in a OneVsRestClassifier to keep applying a one-versus-rest scheme.\n",
            "  warnings.warn(\n",
            "/home/work/.local/lib/python3.13/site-packages/sklearn/linear_model/_logistic.py:1296: FutureWarning: Using the 'liblinear' solver for multiclass classification is deprecated. An error will be raised in 1.8. Either use another solver which supports the multinomial loss or wrap the estimator in a OneVsRestClassifier to keep applying a one-versus-rest scheme.\n",
            "  warnings.warn(\n",
            "/home/work/.local/lib/python3.13/site-packages/sklearn/linear_model/_logistic.py:1296: FutureWarning: Using the 'liblinear' solver for multiclass classification is deprecated. An error will be raised in 1.8. Either use another solver which supports the multinomial loss or wrap the estimator in a OneVsRestClassifier to keep applying a one-versus-rest scheme.\n",
            "  warnings.warn(\n",
            "/home/work/.local/lib/python3.13/site-packages/sklearn/linear_model/_logistic.py:1296: FutureWarning: Using the 'liblinear' solver for multiclass classification is deprecated. An error will be raised in 1.8. Either use another solver which supports the multinomial loss or wrap the estimator in a OneVsRestClassifier to keep applying a one-versus-rest scheme.\n",
            "  warnings.warn(\n",
            "/home/work/.local/lib/python3.13/site-packages/sklearn/linear_model/_logistic.py:1296: FutureWarning: Using the 'liblinear' solver for multiclass classification is deprecated. An error will be raised in 1.8. Either use another solver which supports the multinomial loss or wrap the estimator in a OneVsRestClassifier to keep applying a one-versus-rest scheme.\n",
            "  warnings.warn(\n",
            "/home/work/.local/lib/python3.13/site-packages/sklearn/linear_model/_sag.py:348: ConvergenceWarning: The max_iter was reached which means the coef_ did not converge\n",
            "  warnings.warn(\n"
          ]
        },
        {
          "name": "stdout",
          "output_type": "stream",
          "text": [
            "Best parameters: {'classifier__penalty': 'l2', 'classifier__solver': 'saga'}\n",
            "Best CV score: 0.9782236842105263\n",
            "Test accuracy: 0.9860526315789474\n"
          ]
        }
      ],
      "source": [
        "# TODO: GridSearchCV\n",
        "from sklearn.pipeline import Pipeline\n",
        "from sklearn.feature_extraction.text import TfidfVectorizer\n",
        "from sklearn.linear_model import LogisticRegression\n",
        "from sklearn.model_selection import GridSearchCV\n",
        "\n",
        "# Define pipeline\n",
        "pipeline = Pipeline([\n",
        "    ('vectorizer', TfidfVectorizer(analyzer='char', ngram_range=(2,4))),\n",
        "    ('classifier', LogisticRegression(max_iter=1000))\n",
        "])\n",
        "\n",
        "# Define parameter grid (only solver + penalty)\n",
        "param_grid = {\n",
        "    'classifier__solver': ['liblinear', 'saga'],\n",
        "    'classifier__penalty': ['l1', 'l2']\n",
        "}\n",
        "\n",
        "# Run grid search\n",
        "grid_search = GridSearchCV(pipeline, param_grid, cv=5, scoring='accuracy', n_jobs=4)\n",
        "grid_search.fit(X_train_final, y_train_enc)\n",
        "\n"
      ]
    },
    {
      "cell_type": "code",
      "execution_count": 12,
      "metadata": {},
      "outputs": [
        {
          "name": "stdout",
          "output_type": "stream",
          "text": [
            "Grid search saved to: /home/work/Documents/GitHub/ML4NLP1/exercises/ex1/grid_search.pkl\n"
          ]
        }
      ],
      "source": [
        "# Write to disk:\n",
        "import joblib\n",
        "import os\n",
        "\n",
        "# Define path to current directory (where your notebook is)\n",
        "save_path = os.path.join(os.getcwd(), \"grid_search.pkl\")\n",
        "\n",
        "# Save the grid search object\n",
        "joblib.dump(grid_search, save_path)\n",
        "\n",
        "print(f\"Grid search saved to: {save_path}\")\n"
      ]
    },
    {
      "cell_type": "markdown",
      "metadata": {
        "id": "TIxWwFC-Bcbe"
      },
      "source": [
        "### 3.2 Best Model Selection\n",
        "\n",
        "After conducting our Grid Search, we should be able to identify our best model by inspecting the using the Grid Search result attribute `cv_results_`. (Hint: `cv_results_` returns a dictionay, so convert it to a Pandas Dataframe for easy inspection.)\n",
        "\n",
        "📝❓ What were the hyperparameter combinations for your best-performing model on the test set.\n",
        "\n",
        "📝❓ What is the advantage of grid search cross-validation?\n"
      ]
    },
    {
      "cell_type": "code",
      "execution_count": 2,
      "metadata": {
        "id": "IH1q7v4heMP1"
      },
      "outputs": [
        {
          "name": "stdout",
          "output_type": "stream",
          "text": [
            "   mean_test_score  std_test_score param_classifier__solver  \\\n",
            "3         0.978224        0.003515                     saga   \n",
            "2         0.977566        0.003677                liblinear   \n",
            "0         0.964276        0.005439                liblinear   \n",
            "1         0.963684        0.005420                     saga   \n",
            "\n",
            "  param_classifier__penalty  \n",
            "3                        l2  \n",
            "2                        l2  \n",
            "0                        l1  \n",
            "1                        l1  \n"
          ]
        }
      ],
      "source": [
        "\n",
        "import joblib\n",
        "import os\n",
        "import pandas as pd\n",
        "\n",
        "# Define the path to your saved file\n",
        "save_path = os.path.join(os.getcwd(), \"grid_search.pkl\")\n",
        "\n",
        "# Load the grid search object\n",
        "grid_search = joblib.load(save_path)\n",
        "# TODO: Select the best model based on the GridSearch results\n",
        "# Convert cv_results_ dict to DataFrame\n",
        "results_df = pd.DataFrame(grid_search.cv_results_)\n",
        "\n",
        "# Sort by mean test score (highest accuracy first)\n",
        "results_df = results_df.sort_values(by='mean_test_score', ascending=False)\n",
        "\n",
        "# Display top results\n",
        "print(results_df[['mean_test_score', 'std_test_score',\n",
        "                  'param_classifier__solver', 'param_classifier__penalty']].head())"
      ]
    },
    {
      "cell_type": "markdown",
      "metadata": {
        "id": "uqGuryr5Pduw"
      },
      "source": [
        "## 3.3 Model Evaluation\n",
        "\n",
        "Once you have identified your best model, use it to predict the languages of texts in the test split.\n",
        "\n",
        "📝❓ According to standard metrics (e.g. Accurracy, Precision, Recall and F1), how well does your model perform on the heldout test set?\n"
      ]
    },
    {
      "cell_type": "code",
      "execution_count": 11,
      "metadata": {
        "id": "I96IIw5IeSm9"
      },
      "outputs": [
        {
          "name": "stdout",
          "output_type": "stream",
          "text": [
            "Accuracy:  0.9861\n",
            "Precision: 0.9875\n",
            "Recall:    0.9861\n",
            "F1 Score:  0.9864\n"
          ]
        }
      ],
      "source": [
        "# TODO: Evaluate the model by inspecting the predictions on the heldout test set\n",
        "from sklearn.metrics import accuracy_score, precision_score, recall_score, f1_score\n",
        "\n",
        "# Make predictions\n",
        "y_pred = grid_search.best_estimator_.predict(X_test_final)\n",
        "\n",
        "# Calculate metrics\n",
        "accuracy = accuracy_score(y_test_enc, y_pred)\n",
        "precision = precision_score(y_test_enc, y_pred, average='weighted')\n",
        "recall = recall_score(y_test_enc, y_pred, average='weighted')\n",
        "f1 = f1_score(y_test_enc, y_pred, average='weighted')\n",
        "\n",
        "# Print results\n",
        "print(f\"Accuracy:  {accuracy:.4f}\")\n",
        "print(f\"Precision: {precision:.4f}\")\n",
        "print(f\"Recall:    {recall:.4f}\")\n",
        "print(f\"F1 Score:  {f1:.4f}\")\n"
      ]
    },
    {
      "cell_type": "markdown",
      "metadata": {
        "id": "nY7yivhIc31J"
      },
      "source": [
        "---\n",
        "\n",
        "### 4.1 Error Analysis\n",
        "\n",
        "Inspect your model's predictions using a confusion matrix and provide a summary of what you find in your report.\n",
        "\n",
        "📝❓ Where does your model do well and where does it fail?\n",
        "In most cases it performs good. Some minor misclasifications happened in some cases. The only major misclassification happened in the class 11, where it predicted 12 instances as class 5.\n",
        "\n",
        "📝❓ What are some possible reasons for why it fails in these cases?\n",
        "Class 11 is \"khm\" which is Khmer, this was predicted as \"eng\" which is english. Our initial guess was, that the languages might be closely related. But they do not even have the same script. Further Khmer does not have a lot of loanwords from english, which could have led to confusion. So we do not know why."
      ]
    },
    {
      "cell_type": "code",
      "execution_count": 16,
      "metadata": {
        "id": "Pvw_JReaeY__"
      },
      "outputs": [
        {
          "data": {
            "image/png": "[encoded data removed]",
            "text/plain": [
              "<Figure size 640x480 with 2 Axes>"
            ]
          },
          "metadata": {},
          "output_type": "display_data"
        }
      ],
      "source": [
        "# TODO: Inspect the model's predcitions on the different classes\n",
        "from sklearn.metrics import ConfusionMatrixDisplay\n",
        "import matplotlib.pyplot as plt\n",
        "# Create confusion matrix\n",
        "cm = confusion_matrix(y_test_enc, y_pred)\n",
        "\n",
        "# Plot confusion matrix\n",
        "disp = ConfusionMatrixDisplay(confusion_matrix=cm)\n",
        "disp.plot(cmap='Blues', xticks_rotation='vertical')\n",
        "plt.title(\"Confusion Matrix\")\n",
        "plt.show()\n"
      ]
    },
    {
      "cell_type": "markdown",
      "metadata": {
        "id": "nLVGsAHENSKw"
      },
      "source": [
        "---\n",
        "\n",
        "### 5.1 Interpretability Analysis\n",
        "\n",
        "Now that you have your best model, it's time to dive deep into understanding how the model makes predictions.\n",
        "\n",
        "It is important that we can explain and visualise our models to improve task performance. Explainable models help characterise model fairness, transparency, and outcomes.\n",
        "\n",
        "Let's try to understand what our best-performing logistic regression classification model has learned.\n",
        "\n",
        "Inspect the 20 most important features for the languages English, Swedish, Norwegian, and Japanese. Please make sure that the features are named and human-interpretable, not things like \"Feat_1\". (Hint: if you have used custom feature extractors in your pipeline, you may need to adapt these to make sure that the feature names are maintained.)\n",
        "\n",
        "📝❓ What is more important, extra features or the outputs of the vectorizer? Please discuss.\n",
        "\n",
        "We recommend using the [SHAP library](https://shap.readthedocs.io/en/latest/example_notebooks/tabular_examples/linear_models/Sentiment%20Analysis%20with%20Logistic%20Regression.html) as discussed in the tutorial. We've provided an example notebook for working with SHAP for multi-class classification in the course GitHub repo.\n",
        "\n",
        "☝ Note, if you prefer to use another interpretability tool, we will accept answers from any explanation library/method as long as the explanations for the model weights are provided in a structured/clear way.\n",
        "\n"
      ]
    },
    {
      "cell_type": "code",
      "execution_count": 17,
      "metadata": {
        "colab": {
          "base_uri": "https://localhost:8080/"
        },
        "id": "QlXrrrBMR-2E",
        "outputId": "8ad2a6a9-fee9-418a-9d50-211a64237689"
      },
      "outputs": [
        {
          "name": "stdout",
          "output_type": "stream",
          "text": [
            "Defaulting to user installation because normal site-packages is not writeable\n",
            "Collecting shap\n",
            "  Downloading shap-0.48.0-cp313-cp313-manylinux_2_17_x86_64.manylinux2014_x86_64.whl.metadata (25 kB)\n",
            "Requirement already satisfied: numpy in /home/work/.local/lib/python3.13/site-packages (from shap) (2.2.4)\n",
            "Requirement already satisfied: scipy in /home/work/.local/lib/python3.13/site-packages (from shap) (1.16.2)\n",
            "Requirement already satisfied: scikit-learn in /home/work/.local/lib/python3.13/site-packages (from shap) (1.7.2)\n",
            "Requirement already satisfied: pandas in /home/work/.local/lib/python3.13/site-packages (from shap) (2.3.3)\n",
            "Requirement already satisfied: tqdm>=4.27.0 in /home/work/.local/lib/python3.13/site-packages (from shap) (4.67.1)\n",
            "Requirement already satisfied: packaging>20.9 in /usr/lib/python3.13/site-packages (from shap) (24.2)\n",
            "Collecting slicer==0.0.8 (from shap)\n",
            "  Downloading slicer-0.0.8-py3-none-any.whl.metadata (4.0 kB)\n",
            "Collecting numba>=0.54 (from shap)\n",
            "  Downloading numba-0.62.1-cp313-cp313-manylinux2014_x86_64.manylinux_2_17_x86_64.whl.metadata (2.8 kB)\n",
            "Collecting cloudpickle (from shap)\n",
            "  Downloading cloudpickle-3.1.1-py3-none-any.whl.metadata (7.1 kB)\n",
            "Requirement already satisfied: typing-extensions in /usr/lib/python3.13/site-packages (from shap) (4.12.2)\n",
            "Collecting llvmlite<0.46,>=0.45.0dev0 (from numba>=0.54->shap)\n",
            "  Downloading llvmlite-0.45.1-cp313-cp313-manylinux2014_x86_64.manylinux_2_17_x86_64.whl.metadata (4.9 kB)\n",
            "Requirement already satisfied: python-dateutil>=2.8.2 in /usr/lib/python3.13/site-packages (from pandas->shap) (2.8.2)\n",
            "Requirement already satisfied: pytz>=2020.1 in /home/work/.local/lib/python3.13/site-packages (from pandas->shap) (2025.2)\n",
            "Requirement already satisfied: tzdata>=2022.7 in /home/work/.local/lib/python3.13/site-packages (from pandas->shap) (2025.2)\n",
            "Requirement already satisfied: joblib>=1.2.0 in /home/work/.local/lib/python3.13/site-packages (from scikit-learn->shap) (1.5.2)\n",
            "Requirement already satisfied: threadpoolctl>=3.1.0 in /home/work/.local/lib/python3.13/site-packages (from scikit-learn->shap) (3.6.0)\n",
            "Requirement already satisfied: six>=1.5 in /usr/lib/python3.13/site-packages (from python-dateutil>=2.8.2->pandas->shap) (1.16.0)\n",
            "Downloading shap-0.48.0-cp313-cp313-manylinux_2_17_x86_64.manylinux2014_x86_64.whl (1.0 MB)\n",
            "\u001b[2K   \u001b[90m━━━━━━━━━━━━━━━━━━━━━━━━━━━━━━━━━━━━━━━━\u001b[0m \u001b[32m1.0/1.0 MB\u001b[0m \u001b[31m11.2 MB/s\u001b[0m eta \u001b[36m0:00:00\u001b[0m\n",
            "\u001b[?25hDownloading slicer-0.0.8-py3-none-any.whl (15 kB)\n",
            "Downloading numba-0.62.1-cp313-cp313-manylinux2014_x86_64.manylinux_2_17_x86_64.whl (3.8 MB)\n",
            "\u001b[2K   \u001b[90m━━━━━━━━━━━━━━━━━━━━━━━━━━━━━━━━━━━━━━━━\u001b[0m \u001b[32m3.8/3.8 MB\u001b[0m \u001b[31m13.2 MB/s\u001b[0m eta \u001b[36m0:00:00\u001b[0ma \u001b[36m0:00:01\u001b[0m\n",
            "\u001b[?25hDownloading cloudpickle-3.1.1-py3-none-any.whl (20 kB)\n",
            "Downloading llvmlite-0.45.1-cp313-cp313-manylinux2014_x86_64.manylinux_2_17_x86_64.whl (56.3 MB)\n",
            "\u001b[2K   \u001b[90m━━━━━━━━━━━━━━━━━━━━━━━━━━━━━━━━━━━━━━━━\u001b[0m \u001b[32m56.3/56.3 MB\u001b[0m \u001b[31m17.3 MB/s\u001b[0m eta \u001b[36m0:00:00\u001b[0m00:01\u001b[0m00:01\u001b[0m\n",
            "\u001b[?25hInstalling collected packages: slicer, llvmlite, cloudpickle, numba, shap\n",
            "Successfully installed cloudpickle-3.1.1 llvmlite-0.45.1 numba-0.62.1 shap-0.48.0 slicer-0.0.8\n"
          ]
        },
        {
          "name": "stderr",
          "output_type": "stream",
          "text": [
            "/home/work/.local/lib/python3.13/site-packages/tqdm/auto.py:21: TqdmWarning: IProgress not found. Please update jupyter and ipywidgets. See https://ipywidgets.readthedocs.io/en/stable/user_install.html\n",
            "  from .autonotebook import tqdm as notebook_tqdm\n"
          ]
        }
      ],
      "source": [
        "# To use shap, we first need to install it into the current environment\n",
        "!pip install --upgrade shap\n",
        "\n",
        "import shap"
      ]
    },
    {
      "cell_type": "code",
      "execution_count": null,
      "metadata": {
        "id": "yYiE9B7Nem1w"
      },
      "outputs": [
        {
          "name": "stdout",
          "output_type": "stream",
          "text": [
            "dict_keys(['vectorizer', 'classifier'])\n",
            "Classes: [ 0  1  2  3  4  5  6  7  8  9 10 11 12 13 14 15 16 17 18]\n"
          ]
        },
        {
          "ename": "IndexError",
          "evalue": "index 0 is out of bounds for axis 0 with size 0",
          "output_type": "error",
          "traceback": [
            "\u001b[31m---------------------------------------------------------------------------\u001b[39m",
            "\u001b[31mIndexError\u001b[39m                                Traceback (most recent call last)",
            "\u001b[36mCell\u001b[39m\u001b[36m \u001b[39m\u001b[32mIn[20]\u001b[39m\u001b[32m, line 25\u001b[39m\n\u001b[32m     22\u001b[39m         \u001b[38;5;28mprint\u001b[39m(\u001b[33mf\u001b[39m\u001b[33m\"\u001b[39m\u001b[38;5;132;01m{\u001b[39;00mfeature_names[i]\u001b[38;5;132;01m:\u001b[39;00m\u001b[33m<20\u001b[39m\u001b[38;5;132;01m}\u001b[39;00m\u001b[33m \u001b[39m\u001b[38;5;132;01m{\u001b[39;00mcoefs[i]\u001b[38;5;132;01m:\u001b[39;00m\u001b[33m.4f\u001b[39m\u001b[38;5;132;01m}\u001b[39;00m\u001b[33m\"\u001b[39m)\n\u001b[32m     24\u001b[39m \u001b[38;5;28;01mfor\u001b[39;00m lang \u001b[38;5;129;01min\u001b[39;00m [\u001b[33m'\u001b[39m\u001b[33men\u001b[39m\u001b[33m'\u001b[39m, \u001b[33m'\u001b[39m\u001b[33msv\u001b[39m\u001b[33m'\u001b[39m, \u001b[33m'\u001b[39m\u001b[33mno\u001b[39m\u001b[33m'\u001b[39m, \u001b[33m'\u001b[39m\u001b[33mja\u001b[39m\u001b[33m'\u001b[39m]:  \u001b[38;5;66;03m# English, Swedish, Norwegian, Japanese\u001b[39;00m\n\u001b[32m---> \u001b[39m\u001b[32m25\u001b[39m     \u001b[43mshow_top_features\u001b[49m\u001b[43m(\u001b[49m\u001b[43mlang\u001b[49m\u001b[43m)\u001b[49m\n",
            "\u001b[36mCell\u001b[39m\u001b[36m \u001b[39m\u001b[32mIn[20]\u001b[39m\u001b[32m, line 15\u001b[39m, in \u001b[36mshow_top_features\u001b[39m\u001b[34m(class_label, top_n)\u001b[39m\n\u001b[32m     13\u001b[39m \u001b[38;5;28;01mdef\u001b[39;00m\u001b[38;5;250m \u001b[39m\u001b[34mshow_top_features\u001b[39m(class_label, top_n=\u001b[32m20\u001b[39m):\n\u001b[32m     14\u001b[39m     \u001b[38;5;66;03m# Find index of the language\u001b[39;00m\n\u001b[32m---> \u001b[39m\u001b[32m15\u001b[39m     class_index = \u001b[43mnp\u001b[49m\u001b[43m.\u001b[49m\u001b[43mwhere\u001b[49m\u001b[43m(\u001b[49m\u001b[43mclasses\u001b[49m\u001b[43m \u001b[49m\u001b[43m==\u001b[49m\u001b[43m \u001b[49m\u001b[43mclass_label\u001b[49m\u001b[43m)\u001b[49m\u001b[43m[\u001b[49m\u001b[32;43m0\u001b[39;49m\u001b[43m]\u001b[49m\u001b[43m[\u001b[49m\u001b[32;43m0\u001b[39;49m\u001b[43m]\u001b[49m\n\u001b[32m     16\u001b[39m     \u001b[38;5;66;03m# Get coefficients for that language\u001b[39;00m\n\u001b[32m     17\u001b[39m     coefs = clf.coef_[class_index]\n",
            "\u001b[31mIndexError\u001b[39m: index 0 is out of bounds for axis 0 with size 0"
          ]
        }
      ],
      "source": [
        "# TODO: Inspect most important features according to the model using SHAP\n",
        "best_model = grid_search.best_estimator_\n",
        "print(best_model.named_steps.keys())\n",
        "vectorizer = best_model.named_steps['vectorizer']\n",
        "clf = best_model.named_steps['classifier']\n",
        "# Get feature names (make sure they are interpretable!)\n",
        "feature_names = np.array(vectorizer.get_feature_names_out())\n",
        "\n",
        "# Get class names (languages)\n",
        "classes = clf.classes_\n",
        "\n",
        "print(\"Classes:\", classes)\n",
        "def show_top_features(class_label, top_n=19):\n",
        "    # Find index of the language\n",
        "    class_index = np.where(classes == class_label)[0][0]\n",
        "    # Get coefficients for that language\n",
        "    coefs = clf.coef_[class_index]\n",
        "    # Sort by weight\n",
        "    top_features_idx = np.argsort(coefs)[-top_n:]\n",
        "    print(f\"\\nTop {top_n} features for {class_label}:\")\n",
        "    for i in reversed(top_features_idx):\n",
        "        print(f\"{feature_names[i]:<20} {coefs[i]:.4f}\")\n",
        "\n",
        "for lang in ['en', 'sv', 'no', 'ja']:  # English, Swedish, Norwegian, Japanese\n",
        "    show_top_features(lang)"
      ]
    },
    {
      "cell_type": "markdown",
      "metadata": {
        "id": "MZX8MCdvgQOJ"
      },
      "source": [
        "---\n",
        "\n",
        "### 6.1 Ablation Study\n",
        "\n",
        "Lastly, we want to conduct a small ablation study to investigate how well our model performs under different conditions.\n",
        "\n",
        "As a first step, choose the two languages for which the classifier worked best.\n",
        "\n",
        "Next, re-fit the best model six times, each time reducing the **length** of each instance in the training set. To do this, create a custom `TextReducer` class that you can include as a preprocessing step in your pipeline. The class should take a `max_len` argument as a hyperparameter that can be set to train the following models:\n",
        "\n",
        "- Model 1: `max_len = None` (i.e. no truncation!)\n",
        "- Model 2: `max_len = 500`\n",
        "- Model 3: `max_len = 250`\n",
        "- Model 4: `max_len = 150`\n",
        "- Model 5: `max_len = 100`\n",
        "- Model 6: `max_len = 50`\n",
        "\n",
        "Use average accuracy over the cross validation scores for each model to measure performance for each ablation setting.\n",
        "\n",
        "📝❓ How does the reduction of training data affect the performance of the classifier? And what could be some possible reasons for this?"
      ]
    },
    {
      "cell_type": "code",
      "execution_count": null,
      "metadata": {
        "id": "jgegy9I_eBo9"
      },
      "outputs": [],
      "source": [
        "# TODO: Ablation study"
      ]
    },
    {
      "cell_type": "markdown",
      "metadata": {
        "id": "FKEiEzVhc99J"
      },
      "source": [
        "---\n",
        "\n",
        "📝❓ Write your lab report here addressing all questions in the notebook"
      ]
    },
    {
      "cell_type": "markdown",
      "metadata": {
        "id": "jWwX_ADfdAO0"
      },
      "source": []
    }
  ],
  "metadata": {
    "colab": {
      "include_colab_link": true,
      "provenance": []
    },
    "kernelspec": {
      "display_name": "Python 3",
      "name": "python3"
    },
    "language_info": {
      "codemirror_mode": {
        "name": "ipython",
        "version": 3
      },
      "file_extension": ".py",
      "mimetype": "text/x-python",
      "name": "python",
      "nbconvert_exporter": "python",
      "pygments_lexer": "ipython3",
      "version": "3.13.7"
    },
    "orig_nbformat": 4
  },
  "nbformat": 4,
  "nbformat_minor": 0
}
